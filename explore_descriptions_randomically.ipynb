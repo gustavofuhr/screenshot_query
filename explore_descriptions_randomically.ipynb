{
 "cells": [
  {
   "cell_type": "markdown",
   "metadata": {},
   "source": [
    "## Explore the image descriptions at random.\n",
    "\n",
    "Check some of the image descriptions so that we can more or less attest their quality and provide samples for the query stage.\n",
    "\n"
   ]
  },
  {
   "cell_type": "code",
   "execution_count": null,
   "metadata": {},
   "outputs": [],
   "source": [
    "import os, random\n",
    "from bokeh.plotting import output_notebook, show\n",
    "from utils import image_and_descriptions_plot\n",
    "\n",
    "output_notebook()\n",
    "IMAGE_DIR = \"/Users/gustavofuhr/projects/data/my_screenshots/\"\n",
    "image_files = [os.path.join(IMAGE_DIR, f) for f in os.listdir(IMAGE_DIR) \n",
    "                            if f.lower().endswith(('.png', '.jpg', '.jpeg'))]\n",
    "random.shuffle(image_files)\n",
    "\n",
    "p = image_and_descriptions_plot(image_files, 4, 2)\n",
    "show(p)"
   ]
  }
 ],
 "metadata": {
  "kernelspec": {
   "display_name": ".screenshot_query",
   "language": "python",
   "name": "python3"
  },
  "language_info": {
   "codemirror_mode": {
    "name": "ipython",
    "version": 3
   },
   "file_extension": ".py",
   "mimetype": "text/x-python",
   "name": "python",
   "nbconvert_exporter": "python",
   "pygments_lexer": "ipython3",
   "version": "3.10.14"
  }
 },
 "nbformat": 4,
 "nbformat_minor": 2
}
